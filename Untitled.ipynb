{
 "cells": [
  {
   "cell_type": "code",
   "execution_count": 4,
   "id": "81e48b16-a0d6-4dc8-8472-dfff63e1fa2f",
   "metadata": {},
   "outputs": [],
   "source": [
    "import torch\n",
    "from model import BiSeNet\n",
    "from utils import load_model\n",
    "import cv2\n",
    "\n",
    "device = 'cuda' if torch.cuda.is_available() else 'cpu'\n",
    "\n",
    "checkpoint_path = '/opt/ml/input/virtual-background/model_weights/checkpoint-epoch9.pth'"
   ]
  },
  {
   "cell_type": "code",
   "execution_count": 2,
   "id": "48c4ba11-8d2d-48b6-aea0-3a0b8667b413",
   "metadata": {},
   "outputs": [],
   "source": [
    "model = BiSeNet(num_classes=1, training=False)\n",
    "model = model.to(device)"
   ]
  },
  {
   "cell_type": "code",
   "execution_count": 3,
   "id": "c9281592-7f94-43a0-80b6-24c44ddeb869",
   "metadata": {},
   "outputs": [
    {
     "name": "stdout",
     "output_type": "stream",
     "text": [
      "\n"
     ]
    }
   ],
   "source": [
    "load_model(model, checkpoint_path)\n",
    "model.eval()\n",
    "print(\"\")"
   ]
  },
  {
   "cell_type": "code",
   "execution_count": null,
   "id": "eee91283-1079-485e-a7aa-896bae9fdab7",
   "metadata": {},
   "outputs": [],
   "source": [
    "def inference_single_img(img_np_array):\n",
    "    img = cv2.resize(img_np_array, dsize=(512, 512), interpolation=cv2.INTER_AREA)\n",
    "    "
   ]
  }
 ],
 "metadata": {
  "kernelspec": {
   "display_name": "Python 3 (ipykernel)",
   "language": "python",
   "name": "python3"
  },
  "language_info": {
   "codemirror_mode": {
    "name": "ipython",
    "version": 3
   },
   "file_extension": ".py",
   "mimetype": "text/x-python",
   "name": "python",
   "nbconvert_exporter": "python",
   "pygments_lexer": "ipython3",
   "version": "3.8.5"
  }
 },
 "nbformat": 4,
 "nbformat_minor": 5
}
